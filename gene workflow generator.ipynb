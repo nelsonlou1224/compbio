{
 "cells": [
  {
   "cell_type": "code",
   "execution_count": 2,
   "id": "6e559976",
   "metadata": {
    "scrolled": false
   },
   "outputs": [
    {
     "name": "stdout",
     "output_type": "stream",
     "text": [
      "Requirement already satisfied: tabulate in /Users/nelson/opt/anaconda3/lib/python3.8/site-packages (0.8.10)\n",
      "Note: you may need to restart the kernel to use updated packages.\n"
     ]
    }
   ],
   "source": [
    "pip install tabulate"
   ]
  },
  {
   "cell_type": "code",
   "execution_count": 3,
   "id": "bce9e9ae",
   "metadata": {},
   "outputs": [],
   "source": [
    "from tabulate import tabulate"
   ]
  },
  {
   "cell_type": "code",
   "execution_count": 4,
   "id": "0b6050ed",
   "metadata": {},
   "outputs": [
    {
     "name": "stdout",
     "output_type": "stream",
     "text": [
      "----------  ---------  ---\n",
      "First Name  Last Name  Age\n",
      "John        Smith      39\n",
      "Mary        Jane       25\n",
      "Jennifer    Doe        28\n",
      "----------  ---------  ---\n"
     ]
    }
   ],
   "source": [
    "table = [['First Name', 'Last Name', 'Age'], ['John', 'Smith', 39], ['Mary', 'Jane', 25], ['Jennifer', 'Doe', 28]]\n",
    "print(tabulate(table))\n"
   ]
  },
  {
   "cell_type": "code",
   "execution_count": 5,
   "id": "81bc8855",
   "metadata": {},
   "outputs": [
    {
     "name": "stdout",
     "output_type": "stream",
     "text": [
      "----------  ---------  ---\n",
      "First Name  Last Name  Age\n",
      "John        Smith      39\n",
      "Mary        Jane       25\n",
      "Jennifer    Doe        28\n",
      "none        what\n",
      "----------  ---------  ---\n"
     ]
    }
   ],
   "source": [
    "table = [['First Name', 'Last Name', 'Age'], ['John', 'Smith', 39], ['Mary', 'Jane', 25], ['Jennifer', 'Doe', 28],['none','what']]\n",
    "print(tabulate(table))\n"
   ]
  },
  {
   "cell_type": "code",
   "execution_count": 6,
   "id": "873d6bde",
   "metadata": {},
   "outputs": [
    {
     "data": {
      "text/plain": [
       "'\\ncolume_1_list=[\"Alice\", \"Bob\",\"Addition\"]\\ncolume_2_list=[24, 19]\\n#table.headers=[\"Name\",\"Age\"]\\n#print(tabulate())>>> print(tabulate({\"Name\": colume_1_list,\\n#...                 \"Age\": colume_2_list}, headers=\"keys\"))\\nprint(tabulate({\"Name\": colume_1_list,                 \\n                \"Age\": colume_2_list}, headers=\"keys\",tablefmt=\"grid\"))\\n'"
      ]
     },
     "execution_count": 6,
     "metadata": {},
     "output_type": "execute_result"
    }
   ],
   "source": [
    "'''\n",
    "colume_1_list=[\"Alice\", \"Bob\",\"Addition\"]\n",
    "colume_2_list=[24, 19]\n",
    "#table.headers=[\"Name\",\"Age\"]\n",
    "#print(tabulate())>>> print(tabulate({\"Name\": colume_1_list,\n",
    "#...                 \"Age\": colume_2_list}, headers=\"keys\"))\n",
    "print(tabulate({\"Name\": colume_1_list,                 \n",
    "                \"Age\": colume_2_list}, headers=\"keys\",tablefmt=\"grid\"))\n",
    "'''"
   ]
  },
  {
   "cell_type": "code",
   "execution_count": 7,
   "id": "7df536d2",
   "metadata": {},
   "outputs": [],
   "source": [
    "import math\n",
    "\n",
    "prefix_src_place=\"P\"\n",
    "prefix_well_list=[\"A\",\"B\",\"C\",\"D\"]\n",
    "two_str=\"{0}{1}\"\n",
    "#number start as 0\n",
    "def convertwellname(number):\n",
    "    remainder=0\n",
    "    nsub=0\n",
    "    if(number>=0):\n",
    "        remainder=number%4\n",
    "        nsub=int(number/4)+1\n",
    "        #print(remainder,nsub)    \n",
    "    return two_str.format(prefix_well_list[remainder],nsub)\n",
    "\n",
    "srclist=[]\n",
    "#build a list based on prefix_well_list\n",
    "for i in range(0,20):\n",
    "    srclist.append(convertwellname(i))    \n",
    "#print(\"Source List \",srclist)\n"
   ]
  },
  {
   "cell_type": "code",
   "execution_count": 8,
   "id": "842345d0",
   "metadata": {},
   "outputs": [],
   "source": [
    "def getNextCombine(nCnt,ndiv):\n",
    "    if(nCnt>=ndiv and ndiv>0):\n",
    "        if(ndiv>0):\n",
    "            nrem=nCnt%ndiv\n",
    "            #print(\"Remainder=\",nrem)\n",
    "            if(nrem == 0):\n",
    "                return (int)(nCnt/ndiv)\n",
    "            else:\n",
    "                return 0\n",
    "    return -1\n",
    "\n",
    "Comb_Dict={}\n",
    "def buildCombineFragment(nCnt,ndiv,srcindex=1):\n",
    "    #print(\"total \",nCnt,ndiv)\n",
    "    newbuildkey=0\n",
    "    #comb_dict={}\n",
    "\n",
    "    #comb dict as key=prefix_src_place_2 \n",
    "    \n",
    "    comb_dic_split=\"_\"\n",
    "    comb_dict_str=\"{0}_{1}\"    \n",
    "       \n",
    "    des_plate_str=\"\"\n",
    "    keyindex=0\n",
    "    des_plate_str=two_str.format(prefix_src_place,srcindex+1)\n",
    "    src_well_list=[]\n",
    "    \n",
    "    subCount=getNextCombine(nCnt,ndiv)\n",
    "    #print(\"SubCount: {} {} {}\",nCnt,ndiv,subCount)\n",
    "    if(subCount>0):\n",
    "      \n",
    "        #print(des_plate_str)\n",
    "        \n",
    "        for i in range(0,nCnt,ndiv):\n",
    "            #print(\"Sub step:\",i)\n",
    "            des_well_str=convertwellname(keyindex)\n",
    "            combkey=comb_dict_str.format(des_plate_str,des_well_str)\n",
    "            \n",
    "            #print(\"Comb key: \",combkey)\n",
    "            \n",
    "            src_well_list=[]\n",
    "            for j in range(i,ndiv+i):\n",
    "                #print(\"Sub Detail step: \",j)\n",
    "                src_well_list.append(convertwellname(j))\n",
    "            #print(\"src_well_list key={0} list={1}: \",src_well_list,combkey)\n",
    "            Comb_Dict[combkey]=src_well_list\n",
    "            keyindex=keyindex+1\n",
    "    elif(subCount==0):\n",
    "        #print(\"As whole Total{}/ndiv {}\",nCnt,ndiv)\n",
    "        des_well_str=convertwellname(keyindex)\n",
    "        combkey=comb_dict_str.format(des_plate_str,des_well_str)\n",
    "        #the whole list\n",
    "        for k in range(0,nCnt):\n",
    "            src_well_list.append(convertwellname(k))\n",
    "        Comb_Dict[combkey]=src_well_list\n",
    "    \n",
    "    \n",
    "    return Comb_Dict\n",
    "  \n",
    "def buildallList(nCnt,ndiv):\n",
    "    Comb_Dict.clear()\n",
    "    MAX_LOOP=100\n",
    "    srcIndex=1\n",
    "    retdict=buildCombineFragment(nCnt,ndiv,srcIndex)\n",
    "    srcIndex=srcIndex+1\n",
    "    \n",
    "    #print(retdict)\n",
    "    srckey=[]\n",
    "    srckey=retdict.keys()\n",
    "    #print(\"Key\",srckey)\n",
    "    \n",
    "    subCnt=getNextCombine(nCnt,ndiv)\n",
    "    \n",
    "    i=0\n",
    "    while(subCnt!=-1 and i<MAX_LOOP):\n",
    "        i=i+1\n",
    "        retdict=buildCombineFragment(subCnt,ndiv,srcIndex) \n",
    "        #print(\"*****SUBDict: \")\n",
    "        srcIndex=srcIndex+1\n",
    "        if(len(retdict.keys())==1):\n",
    "            print(\"No more to build\")\n",
    "            break\n",
    "        subCnt=getNextCombine(subCnt,ndiv)\n",
    "\n",
    "\n",
    "def printTableByDict():\n",
    "    try:\n",
    "        #print(\"***Loop the all\")\n",
    "        index_column=[]\n",
    "        src_plate_column=[]\n",
    "        src_well_column=[]\n",
    "        des_plate_column=[]\n",
    "        des_well_column=[]\n",
    "\n",
    "        i=0\n",
    "        for destkey in Comb_Dict.keys():\n",
    "            #split srcIndex\n",
    "            splitdestkey=destkey.split(\"_\")\n",
    "            destwell=splitdestkey[-1]\n",
    "            destplate=splitdestkey[0]\n",
    "            srcindex=int(destplate.strip(prefix_src_place))\n",
    "            srcplate=two_str.format(prefix_src_place,srcindex-1)\n",
    "            #print(\"Srcplate {0} Srcwell {1} destPlate {2} destwell {3}\",srcplate,srcindex,destplate,destwell)\n",
    "            destlist=Comb_Dict[destkey]\n",
    "            \n",
    "            for srcwell in destlist:\n",
    "                i=i+1\n",
    "                #print(srcwell)\n",
    "                index_column.append(i)\n",
    "                \n",
    "                src_plate_column.append(srcplate)\n",
    "                src_well_column.append(srcwell)\n",
    "                des_plate_column.append(destplate)\n",
    "                des_well_column.append(destwell)\n",
    "\n",
    "        print(tabulate({\"Index\":index_column,\n",
    "                        \"Source Plate\": src_plate_column,                 \n",
    "                        \"Source Well\": src_well_column,\n",
    "                        \"Destination Plate\": des_plate_column,                 \n",
    "                        \"Destination Well\": des_well_column}, \n",
    "                        headers=\"keys\",tablefmt=\"grid\"))    \n",
    "    except:\n",
    "        print(\"Got Error to print Table\")\n",
    "\n",
    "#Main Function\n",
    "\n",
    "\n"
   ]
  },
  {
   "cell_type": "code",
   "execution_count": 9,
   "id": "e143e71b",
   "metadata": {},
   "outputs": [],
   "source": [
    "def printSepline(char,ncount):\n",
    "    i=0\n",
    "    strchar=char\n",
    "    while (i < ncount):\n",
    "        strchar=strchar+char\n",
    "        i=i+1\n",
    "    print(strchar)\n",
    "#get input as Interger\n",
    "def getInputCount(txtPrompt,ndefaultInput=2,txtErrorRemind=\"\"):\n",
    "    nCount=ndefaultInput\n",
    "    #Take Fragments from user Input\n",
    "    try: \n",
    "        nCount = int(input(txtPrompt))\n",
    "        \n",
    "    except ValueError:        \n",
    "        print (txtErrorRemind)\n",
    "        \n",
    "    return nCount\n",
    "\n",
    "def Main():\n",
    "\n",
    "    nWellCount=getInputCount(\"Please Enter number of gene fragments (Default 4) \",4)\n",
    "    nCombDiv=getInputCount(\"Please Enter pairing number (2 or 3,4 etc)? Default=2 \")\n",
    "    printSepline(\"==\",42)\n",
    "\n",
    "    txtInput=\"Input Total Wells={0} Combined By Every {1}\"\n",
    "    print(txtInput.format(nWellCount,nCombDiv))\n",
    "    \n",
    "    if(nWellCount<nCombDiv or nCombDiv<=0):\n",
    "        print(\"Invalid User Input. Please Try again!!!\")\n",
    "    else:      \n",
    "        buildallList(nWellCount,nCombDiv)\n",
    "        printTableByDict()\n",
    "\n"
   ]
  },
  {
   "cell_type": "code",
   "execution_count": null,
   "id": "6703985c",
   "metadata": {
    "scrolled": true
   },
   "outputs": [],
   "source": [
    "#call Main Function    \n",
    "Main()"
   ]
  },
  {
   "cell_type": "code",
   "execution_count": null,
   "id": "8cfe58fa",
   "metadata": {},
   "outputs": [],
   "source": []
  },
  {
   "cell_type": "code",
   "execution_count": null,
   "id": "86a558e1",
   "metadata": {},
   "outputs": [],
   "source": []
  }
 ],
 "metadata": {
  "kernelspec": {
   "display_name": "Python 3",
   "language": "python",
   "name": "python3"
  },
  "language_info": {
   "codemirror_mode": {
    "name": "ipython",
    "version": 3
   },
   "file_extension": ".py",
   "mimetype": "text/x-python",
   "name": "python",
   "nbconvert_exporter": "python",
   "pygments_lexer": "ipython3",
   "version": "3.8.8"
  }
 },
 "nbformat": 4,
 "nbformat_minor": 5
}
